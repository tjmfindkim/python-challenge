{
 "cells": [
  {
   "cell_type": "code",
   "execution_count": 1,
   "metadata": {},
   "outputs": [
    {
     "ename": "FileNotFoundError",
     "evalue": "[Errno 2] No such file or directory: 'raw_data/election_data_1.csv'",
     "output_type": "error",
     "traceback": [
      "\u001b[1;31m---------------------------------------------------------------------------\u001b[0m",
      "\u001b[1;31mFileNotFoundError\u001b[0m                         Traceback (most recent call last)",
      "\u001b[1;32m<ipython-input-1-962299d28898>\u001b[0m in \u001b[0;36m<module>\u001b[1;34m\u001b[0m\n\u001b[0;32m      3\u001b[0m \u001b[0mvoter\u001b[0m \u001b[1;33m=\u001b[0m \u001b[1;33m[\u001b[0m\u001b[1;33m]\u001b[0m\u001b[1;33m\u001b[0m\u001b[1;33m\u001b[0m\u001b[0m\n\u001b[0;32m      4\u001b[0m \u001b[0mvoteFor\u001b[0m \u001b[1;33m=\u001b[0m \u001b[1;33m[\u001b[0m\u001b[1;33m]\u001b[0m\u001b[1;33m\u001b[0m\u001b[1;33m\u001b[0m\u001b[0m\n\u001b[1;32m----> 5\u001b[1;33m \u001b[1;32mwith\u001b[0m \u001b[0mopen\u001b[0m\u001b[1;33m(\u001b[0m\u001b[1;34m\"raw_data/election_data_1.csv\"\u001b[0m\u001b[1;33m)\u001b[0m \u001b[1;32mas\u001b[0m \u001b[0mfile\u001b[0m\u001b[1;33m:\u001b[0m\u001b[1;33m\u001b[0m\u001b[1;33m\u001b[0m\u001b[0m\n\u001b[0m\u001b[0;32m      6\u001b[0m     \u001b[0mreader\u001b[0m \u001b[1;33m=\u001b[0m \u001b[0mcsv\u001b[0m\u001b[1;33m.\u001b[0m\u001b[0mreader\u001b[0m\u001b[1;33m(\u001b[0m\u001b[0mfile\u001b[0m\u001b[1;33m)\u001b[0m\u001b[1;33m\u001b[0m\u001b[1;33m\u001b[0m\u001b[0m\n\u001b[0;32m      7\u001b[0m     \u001b[0mnext\u001b[0m\u001b[1;33m(\u001b[0m\u001b[0mreader\u001b[0m\u001b[1;33m)\u001b[0m\u001b[1;33m\u001b[0m\u001b[1;33m\u001b[0m\u001b[0m\n",
      "\u001b[1;31mFileNotFoundError\u001b[0m: [Errno 2] No such file or directory: 'raw_data/election_data_1.csv'"
     ]
    }
   ],
   "source": [
    "import csv\n",
    "\n",
    "voter = []\n",
    "voteFor = []\n",
    "with open(\"raw_data/election_data_1.csv\") as file:\n",
    "    reader = csv.reader(file)\n",
    "    next(reader)\n",
    "    for row in reader:\n",
    "        voter.append(row[0])\n",
    "        voteFor.append(row[2])\n",
    "\n",
    "print(\"Election Results\")\n",
    "print(\"-------------------------\")\n",
    "print(f\"Total Votes: {len(voter)}\")\n",
    "print(\"-------------------------\")\n",
    "\n",
    "# get a list of distinct values of candidates in alphabetic order.\n",
    "cands = list(set(voteFor))\n",
    "cands.sort()\n",
    "# get a vote count for each candidate.\n",
    "candVotes = []\n",
    "for cand in cands:\n",
    "    candVotes.append(voteFor.count(cand))\n",
    "\n",
    "for i in range(len(cands)):\n",
    "    print(f\"{cands[i]}: {'{:.2%}'.format(candVotes[i]/len(voteFor))} ({candVotes[i]})\")\n",
    "print(\"-------------------------\")\n",
    "print(f\"Winner: {cands[candVotes.index(max(candVotes))]}\")\n",
    "print(\"-------------------------\\n\")\n",
    "\n",
    "# repeat for another file.\n",
    "# voter = []\n",
    "# voteFor = []\n",
    "# with open(\"election_data_2.csv\") as file:\n",
    "#     reader = csv.reader(file)\n",
    "#     next(reader)\n",
    "#     for row in reader:\n",
    "#         voter.append(row[0])\n",
    "#         voteFor.append(row[2])\n",
    "\n",
    "# print(\"Election Results\")\n",
    "# print(\"-------------------------\")\n",
    "# print(f\"Total Votes: {len(voter)}\")\n",
    "# print(\"-------------------------\")\n",
    "\n",
    "# cands = list(set(voteFor))\n",
    "# cands.sort()\n",
    "# candVotes = []\n",
    "# for cand in cands:\n",
    "#     candVotes.append(voteFor.count(cand))\n",
    "\n",
    "# for i in range(len(cands)):\n",
    "#     print(f\"{cands[i]}: {'{:.2%}'.format(candVotes[i]/len(voteFor))} ({candVotes[i]})\")\n",
    "# print(\"-------------------------\")\n",
    "# print(f\"Winner: {cands[candVotes.index(max(candVotes))]}\")\n",
    "# print(\"-------------------------\\n\")"
   ]
  },
  {
   "cell_type": "code",
   "execution_count": null,
   "metadata": {},
   "outputs": [],
   "source": []
  }
 ],
 "metadata": {
  "kernelspec": {
   "display_name": "Python [conda env:PythonData]",
   "language": "python",
   "name": "pythondata"
  },
  "language_info": {
   "codemirror_mode": {
    "name": "ipython",
    "version": 3
   },
   "file_extension": ".py",
   "mimetype": "text/x-python",
   "name": "python",
   "nbconvert_exporter": "python",
   "pygments_lexer": "ipython3",
   "version": "3.7.1"
  }
 },
 "nbformat": 4,
 "nbformat_minor": 2
}
