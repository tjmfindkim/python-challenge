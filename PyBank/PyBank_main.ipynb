{
 "cells": [
  {
   "cell_type": "code",
   "execution_count": 2,
   "metadata": {},
   "outputs": [
    {
     "name": "stdout",
     "output_type": "stream",
     "text": [
      "Resources\\budget_data.csv\n"
     ]
    }
   ],
   "source": [
    "# Modules\n",
    "import os\n",
    "import csv\n",
    "\n",
    "# Set path for file\n",
    "csvpath = os.path.join(\"Resources\", \"budget_data.csv\")\n",
    "\n",
    "print (csvpath)"
   ]
  },
  {
   "cell_type": "code",
   "execution_count": 3,
   "metadata": {},
   "outputs": [
    {
     "name": "stdout",
     "output_type": "stream",
     "text": [
      "Total Months:  86\n"
     ]
    }
   ],
   "source": [
    "# Set variable to 0\n",
    "t_months = 0\n",
    "\n",
    "# Open the CSV\n",
    "with open(csvpath, newline=\"\") as csvfile:\n",
    "    csvreader = csv.reader(csvfile, delimiter=\",\")\n",
    "    csv_header = next(csvreader)\n",
    "   \n",
    "# Loop through looking for the total months\n",
    "    for row in csvreader:\n",
    "            if row[0] != \" \":\n",
    "                t_months = t_months + 1\n",
    "                           \n",
    "    print (\"Total Months:  \" + str(t_months))"
   ]
  },
  {
   "cell_type": "code",
   "execution_count": 4,
   "metadata": {},
   "outputs": [
    {
     "name": "stdout",
     "output_type": "stream",
     "text": [
      "Total P/L:  $38382578\n"
     ]
    }
   ],
   "source": [
    "# Set variable to 0\n",
    "total = 0\n",
    "\n",
    "# Open the CSV\n",
    "with open(csvpath, newline=\"\") as csvfile:\n",
    "    csvreader = csv.reader(csvfile, delimiter=\",\")\n",
    "    csv_header = next(csvreader)\n",
    "\n",
    "# Loop through looking for the total amount of \"P/L\"\n",
    "    for row in csvreader:\n",
    "            if row[1] != \" \":\n",
    "                total = total + int(row[1])\n",
    "                \n",
    "                               \n",
    "print (\"Total P/L:  $\" + str(total))"
   ]
  },
  {
   "cell_type": "code",
   "execution_count": 5,
   "metadata": {},
   "outputs": [
    {
     "name": "stdout",
     "output_type": "stream",
     "text": [
      "Average Change:  $-2315.12\n"
     ]
    }
   ],
   "source": [
    "# Set variable to 0\n",
    "f_value = 0\n",
    "\n",
    "# Lists to store data\n",
    "ac1 = []\n",
    "dates = []\n",
    "\n",
    "# Open the CSV\n",
    "with open(csvpath, newline=\"\") as csvfile:\n",
    "    csvreader = csv.reader(csvfile, delimiter=\",\")\n",
    "    csv_header = next(csvreader)\n",
    "    f_value = int(next(csvreader)[1])\n",
    "\n",
    "# Loop through looking for the total amount of \"P/L\"\n",
    "    for row in csvreader:\n",
    "            # build a dates table for later use\n",
    "            dates.append(row[0])\n",
    "            # build a changes value table\n",
    "            diff = int(row[1])-f_value\n",
    "            ac1.append(diff)\n",
    "# set f_value to last read out\n",
    "            f_value = int(row[1])\n",
    "\n",
    "# sum up all values in \"ac1\" and divide by total listing\n",
    "    Average_changes = sum(ac1)/len(ac1)\n",
    "    # print (sum(ac1))\n",
    "    # print (len(ac1))\n",
    "    # print (Average_changes)\n",
    "                               \n",
    "print (\"Average Change:  $\" + str(round(Average_changes,2)))"
   ]
  },
  {
   "cell_type": "code",
   "execution_count": 6,
   "metadata": {},
   "outputs": [
    {
     "name": "stdout",
     "output_type": "stream",
     "text": [
      "1926159\n",
      "Feb-2012\n",
      "Greatest Increase in Profits:  Feb-2012   $1926159\n"
     ]
    }
   ],
   "source": [
    "# find greatest increase in profits\n",
    "g_increase = max(ac1)\n",
    "print(g_increase)\n",
    "g_date = dates[ac1.index(g_increase)]\n",
    "print (g_date)\n",
    "print (\"Greatest Increase in Profits:  \"  +  str(g_date) + \"   $\" + str(g_increase))"
   ]
  },
  {
   "cell_type": "code",
   "execution_count": 7,
   "metadata": {},
   "outputs": [
    {
     "name": "stdout",
     "output_type": "stream",
     "text": [
      "Greatest Decrease in Profits:  Feb-2012   $-2196167\n"
     ]
    }
   ],
   "source": [
    "# find greatest increase in profits\n",
    "d_increase = min(ac1)\n",
    "# print(d_increase)\n",
    "d_date = dates[ac1.index(d_increase)]\n",
    "# print (g_date)\n",
    "print (\"Greatest Decrease in Profits:  \"  +  str(g_date) + \"   $\" + str(d_increase))"
   ]
  },
  {
   "cell_type": "code",
   "execution_count": 8,
   "metadata": {},
   "outputs": [
    {
     "name": "stdout",
     "output_type": "stream",
     "text": [
      "Financial Analysis\n",
      "---------------------\n",
      "Total Months:  86\n",
      "Total P/L:  $38382578\n",
      "Average Change:  $-2315.12\n",
      "Greatest Increase in Profits:  Feb-2012   $1926159\n",
      "Greatest Decrease in Profits:  Sep-2013   $-2196167\n"
     ]
    }
   ],
   "source": [
    "#Display infor on terminal\n",
    "print (\"Financial Analysis\")\n",
    "print (\"---------------------\")\n",
    "print (\"Total Months:  \" + str(t_months))\n",
    "print (\"Total P/L:  $\" + str(total))\n",
    "print (\"Average Change:  $\" + str(round(Average_changes,2)))\n",
    "print (\"Greatest Increase in Profits:  \"  +  str(g_date) + \"   $\" + str(g_increase))\n",
    "print (\"Greatest Decrease in Profits:  \"  +  str(d_date) + \"   $\" + str(d_increase))"
   ]
  },
  {
   "cell_type": "code",
   "execution_count": 9,
   "metadata": {},
   "outputs": [],
   "source": [
    "#Exporting to .txt file\n",
    "file_txt = open(\"Resources\\output10.txt\", \"w\")\n",
    "\n",
    "file_txt.write(\"Financial Analysis \\n\")\n",
    "file_txt.write(\"--------------------- \\n\")\n",
    "file_txt.write(\"Total Months:  \" + str(t_months) + \"\\n\")\n",
    "file_txt.write(\"Total P/L:  $\" + str(total) + \"\\n\")\n",
    "file_txt.write(\"Average Change:  $\" + str(round(Average_changes,2)) + \"\\n\")\n",
    "file_txt.write(\"Greatest Increase in Profits:  \"  +  str(g_date) + \"   $\" + str(g_increase) + \"\\n\")\n",
    "file_txt.write(\"Greatest Decrease in Profits:  \"  +  str(g_date) + \"   $\" + str(d_increase) + \"\\n\")\n",
    "\n",
    "file_txt.close()"
   ]
  },
  {
   "cell_type": "code",
   "execution_count": null,
   "metadata": {},
   "outputs": [],
   "source": []
  }
 ],
 "metadata": {
  "kernelspec": {
   "display_name": "Python [conda env:PythonData]",
   "language": "python",
   "name": "pythondata"
  },
  "language_info": {
   "codemirror_mode": {
    "name": "ipython",
    "version": 3
   },
   "file_extension": ".py",
   "mimetype": "text/x-python",
   "name": "python",
   "nbconvert_exporter": "python",
   "pygments_lexer": "ipython3",
   "version": "3.7.1"
  }
 },
 "nbformat": 4,
 "nbformat_minor": 2
}
